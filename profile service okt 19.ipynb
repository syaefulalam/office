{
  "nbformat": 4,
  "nbformat_minor": 0,
  "metadata": {
    "colab": {
      "name": "Untitled10.ipynb",
      "provenance": [],
      "include_colab_link": true
    },
    "kernelspec": {
      "name": "python3",
      "display_name": "Python 3"
    }
  },
  "cells": [
    {
      "cell_type": "markdown",
      "metadata": {
        "id": "view-in-github",
        "colab_type": "text"
      },
      "source": [
        "<a href=\"https://colab.research.google.com/github/syaefulalam/office/blob/master/profile%20service%20okt%2019.ipynb\" target=\"_parent\"><img src=\"https://colab.research.google.com/assets/colab-badge.svg\" alt=\"Open In Colab\"/></a>"
      ]
    },
    {
      "cell_type": "code",
      "metadata": {
        "id": "5DJeoM5b4LEL",
        "colab_type": "code",
        "colab": {
          "base_uri": "https://localhost:8080/",
          "height": 34
        },
        "outputId": "bf0d4e9b-84e1-4be3-e190-985373a0f2ce"
      },
      "source": [
        "import numpy as np\n",
        "import pandas as pd\n",
        "#Load data\n",
        "from google.colab import drive\n",
        "drive.mount('/content/drive', force_remount=True)\n",
        "transactions = pd.read_csv('/content/drive/My Drive/coba/Profile Msisdn service per Okt 19.csv', engine='python')\n"
      ],
      "execution_count": 2,
      "outputs": [
        {
          "output_type": "stream",
          "text": [
            "Mounted at /content/drive\n"
          ],
          "name": "stdout"
        }
      ]
    },
    {
      "cell_type": "code",
      "metadata": {
        "id": "MCDfObu75vJ4",
        "colab_type": "code",
        "colab": {
          "base_uri": "https://localhost:8080/",
          "height": 34
        },
        "outputId": "fb6dc03c-01e9-4e5a-bf95-763e00ad22c2"
      },
      "source": [
        "from google.colab import drive\n",
        "drive.mount('/content/drive')"
      ],
      "execution_count": 4,
      "outputs": [
        {
          "output_type": "stream",
          "text": [
            "Drive already mounted at /content/drive; to attempt to forcibly remount, call drive.mount(\"/content/drive\", force_remount=True).\n"
          ],
          "name": "stdout"
        }
      ]
    },
    {
      "cell_type": "code",
      "metadata": {
        "id": "au2HeiOP5jP2",
        "colab_type": "code",
        "colab": {
          "base_uri": "https://localhost:8080/",
          "height": 187
        },
        "outputId": "70a72fff-8ec1-41d5-cd82-4a7aa8d19c72"
      },
      "source": [
        "transactions.info()"
      ],
      "execution_count": 6,
      "outputs": [
        {
          "output_type": "stream",
          "text": [
            "<class 'pandas.core.frame.DataFrame'>\n",
            "RangeIndex: 4992207 entries, 0 to 4992206\n",
            "Data columns (total 5 columns):\n",
            "msisdn       object\n",
            "unit_type    object\n",
            "unit_name    object\n",
            "brand        object\n",
            "age          float64\n",
            "dtypes: float64(1), object(4)\n",
            "memory usage: 190.4+ MB\n"
          ],
          "name": "stdout"
        }
      ]
    },
    {
      "cell_type": "code",
      "metadata": {
        "id": "QnqKixo5556O",
        "colab_type": "code",
        "colab": {}
      },
      "source": [
        "data = transactions.drop_duplicates(subset=['msisdn'])"
      ],
      "execution_count": 0,
      "outputs": []
    },
    {
      "cell_type": "code",
      "metadata": {
        "id": "G2MqUY7n6HrU",
        "colab_type": "code",
        "colab": {
          "base_uri": "https://localhost:8080/",
          "height": 187
        },
        "outputId": "15df4300-b855-4c94-be97-6bc2c1f5337c"
      },
      "source": [
        "data.info()"
      ],
      "execution_count": 8,
      "outputs": [
        {
          "output_type": "stream",
          "text": [
            "<class 'pandas.core.frame.DataFrame'>\n",
            "Int64Index: 2157407 entries, 0 to 4992205\n",
            "Data columns (total 5 columns):\n",
            "msisdn       object\n",
            "unit_type    object\n",
            "unit_name    object\n",
            "brand        object\n",
            "age          float64\n",
            "dtypes: float64(1), object(4)\n",
            "memory usage: 98.8+ MB\n"
          ],
          "name": "stdout"
        }
      ]
    },
    {
      "cell_type": "code",
      "metadata": {
        "id": "bxlc4FIw6MN_",
        "colab_type": "code",
        "colab": {
          "base_uri": "https://localhost:8080/",
          "height": 34
        },
        "outputId": "36702702-9017-48ef-f627-e7a7137efa29"
      },
      "source": [
        "#Melakukan pengecekan untuk nilai NULL yang ada\n",
        "print(data.isnull().values.any())"
      ],
      "execution_count": 9,
      "outputs": [
        {
          "output_type": "stream",
          "text": [
            "True\n"
          ],
          "name": "stdout"
        }
      ]
    },
    {
      "cell_type": "code",
      "metadata": {
        "id": "mv53jfTA6SWW",
        "colab_type": "code",
        "colab": {
          "base_uri": "https://localhost:8080/",
          "height": 204
        },
        "outputId": "d2e235ea-112a-491c-b48a-a59e95f21969"
      },
      "source": [
        "data.head()"
      ],
      "execution_count": 10,
      "outputs": [
        {
          "output_type": "execute_result",
          "data": {
            "text/html": [
              "<div>\n",
              "<style scoped>\n",
              "    .dataframe tbody tr th:only-of-type {\n",
              "        vertical-align: middle;\n",
              "    }\n",
              "\n",
              "    .dataframe tbody tr th {\n",
              "        vertical-align: top;\n",
              "    }\n",
              "\n",
              "    .dataframe thead th {\n",
              "        text-align: right;\n",
              "    }\n",
              "</style>\n",
              "<table border=\"1\" class=\"dataframe\">\n",
              "  <thead>\n",
              "    <tr style=\"text-align: right;\">\n",
              "      <th></th>\n",
              "      <th>msisdn</th>\n",
              "      <th>unit_type</th>\n",
              "      <th>unit_name</th>\n",
              "      <th>brand</th>\n",
              "      <th>age</th>\n",
              "    </tr>\n",
              "  </thead>\n",
              "  <tbody>\n",
              "    <tr>\n",
              "      <th>0</th>\n",
              "      <td>08111037111</td>\n",
              "      <td>gerai</td>\n",
              "      <td>CIKUPA</td>\n",
              "      <td>NaN</td>\n",
              "      <td>NaN</td>\n",
              "    </tr>\n",
              "    <tr>\n",
              "      <th>2</th>\n",
              "      <td>08113190388</td>\n",
              "      <td>grapari</td>\n",
              "      <td>SURABAYA PEMUDA</td>\n",
              "      <td>NaN</td>\n",
              "      <td>NaN</td>\n",
              "    </tr>\n",
              "    <tr>\n",
              "      <th>4</th>\n",
              "      <td>08115940088</td>\n",
              "      <td>gerai</td>\n",
              "      <td>MT HARYONO BALIKPAPAN</td>\n",
              "      <td>NaN</td>\n",
              "      <td>NaN</td>\n",
              "    </tr>\n",
              "    <tr>\n",
              "      <th>6</th>\n",
              "      <td>08117160022</td>\n",
              "      <td>gerai</td>\n",
              "      <td>BATU RAJA</td>\n",
              "      <td>NaN</td>\n",
              "      <td>NaN</td>\n",
              "    </tr>\n",
              "    <tr>\n",
              "      <th>7</th>\n",
              "      <td>08117166637</td>\n",
              "      <td>gerai</td>\n",
              "      <td>BATU RAJA</td>\n",
              "      <td>NaN</td>\n",
              "      <td>NaN</td>\n",
              "    </tr>\n",
              "  </tbody>\n",
              "</table>\n",
              "</div>"
            ],
            "text/plain": [
              "        msisdn unit_type              unit_name brand  age\n",
              "0  08111037111     gerai                 CIKUPA   NaN  NaN\n",
              "2  08113190388   grapari        SURABAYA PEMUDA   NaN  NaN\n",
              "4  08115940088     gerai  MT HARYONO BALIKPAPAN   NaN  NaN\n",
              "6  08117160022     gerai              BATU RAJA   NaN  NaN\n",
              "7  08117166637     gerai              BATU RAJA   NaN  NaN"
            ]
          },
          "metadata": {
            "tags": []
          },
          "execution_count": 10
        }
      ]
    },
    {
      "cell_type": "code",
      "metadata": {
        "id": "z0eLv5cc6ekU",
        "colab_type": "code",
        "colab": {
          "base_uri": "https://localhost:8080/",
          "height": 419
        },
        "outputId": "60807856-5fcf-4a3a-f658-6c785ad083c3"
      },
      "source": [
        "#will drop all rows in which any null value is present\n",
        "data.dropna()"
      ],
      "execution_count": 12,
      "outputs": [
        {
          "output_type": "execute_result",
          "data": {
            "text/html": [
              "<div>\n",
              "<style scoped>\n",
              "    .dataframe tbody tr th:only-of-type {\n",
              "        vertical-align: middle;\n",
              "    }\n",
              "\n",
              "    .dataframe tbody tr th {\n",
              "        vertical-align: top;\n",
              "    }\n",
              "\n",
              "    .dataframe thead th {\n",
              "        text-align: right;\n",
              "    }\n",
              "</style>\n",
              "<table border=\"1\" class=\"dataframe\">\n",
              "  <thead>\n",
              "    <tr style=\"text-align: right;\">\n",
              "      <th></th>\n",
              "      <th>msisdn</th>\n",
              "      <th>unit_type</th>\n",
              "      <th>unit_name</th>\n",
              "      <th>brand</th>\n",
              "      <th>age</th>\n",
              "    </tr>\n",
              "  </thead>\n",
              "  <tbody>\n",
              "    <tr>\n",
              "      <th>32</th>\n",
              "      <td>628111000887</td>\n",
              "      <td>callcenter</td>\n",
              "      <td>CC BANDUNG</td>\n",
              "      <td>kartuHALO</td>\n",
              "      <td>46.0</td>\n",
              "    </tr>\n",
              "    <tr>\n",
              "      <th>33</th>\n",
              "      <td>628111000908</td>\n",
              "      <td>callcenter</td>\n",
              "      <td>CC BANDUNG</td>\n",
              "      <td>kartuHALO</td>\n",
              "      <td>54.0</td>\n",
              "    </tr>\n",
              "    <tr>\n",
              "      <th>37</th>\n",
              "      <td>628111001013</td>\n",
              "      <td>gerai</td>\n",
              "      <td>KOTA KASABLANKA</td>\n",
              "      <td>kartuHALO</td>\n",
              "      <td>46.0</td>\n",
              "    </tr>\n",
              "    <tr>\n",
              "      <th>43</th>\n",
              "      <td>628111001097</td>\n",
              "      <td>grapari</td>\n",
              "      <td>CILEGON</td>\n",
              "      <td>kartuHALO</td>\n",
              "      <td>21.0</td>\n",
              "    </tr>\n",
              "    <tr>\n",
              "      <th>45</th>\n",
              "      <td>628111001307</td>\n",
              "      <td>callcenter</td>\n",
              "      <td>CC SURABAYA</td>\n",
              "      <td>kartuHALO</td>\n",
              "      <td>35.0</td>\n",
              "    </tr>\n",
              "    <tr>\n",
              "      <th>...</th>\n",
              "      <td>...</td>\n",
              "      <td>...</td>\n",
              "      <td>...</td>\n",
              "      <td>...</td>\n",
              "      <td>...</td>\n",
              "    </tr>\n",
              "    <tr>\n",
              "      <th>4992185</th>\n",
              "      <td>6285399988321</td>\n",
              "      <td>gerai</td>\n",
              "      <td>MEDAN FAIR PLAZA</td>\n",
              "      <td>kartuAS</td>\n",
              "      <td>42.0</td>\n",
              "    </tr>\n",
              "    <tr>\n",
              "      <th>4992187</th>\n",
              "      <td>6285399991996</td>\n",
              "      <td>webservice</td>\n",
              "      <td>eCare</td>\n",
              "      <td>kartuAS</td>\n",
              "      <td>23.0</td>\n",
              "    </tr>\n",
              "    <tr>\n",
              "      <th>4992193</th>\n",
              "      <td>6285399992353</td>\n",
              "      <td>gerai</td>\n",
              "      <td>DEMAK</td>\n",
              "      <td>kartuAS</td>\n",
              "      <td>32.0</td>\n",
              "    </tr>\n",
              "    <tr>\n",
              "      <th>4992196</th>\n",
              "      <td>6285399993592</td>\n",
              "      <td>callcenter</td>\n",
              "      <td>CC MAKASSAR</td>\n",
              "      <td>kartuAS</td>\n",
              "      <td>28.0</td>\n",
              "    </tr>\n",
              "    <tr>\n",
              "      <th>4992198</th>\n",
              "      <td>6285399997729</td>\n",
              "      <td>grapari</td>\n",
              "      <td>PALEMBANG</td>\n",
              "      <td>kartuHALO</td>\n",
              "      <td>29.0</td>\n",
              "    </tr>\n",
              "  </tbody>\n",
              "</table>\n",
              "<p>1471176 rows × 5 columns</p>\n",
              "</div>"
            ],
            "text/plain": [
              "                msisdn   unit_type         unit_name      brand   age\n",
              "32        628111000887  callcenter        CC BANDUNG  kartuHALO  46.0\n",
              "33        628111000908  callcenter        CC BANDUNG  kartuHALO  54.0\n",
              "37        628111001013       gerai  KOTA KASABLANKA   kartuHALO  46.0\n",
              "43        628111001097     grapari           CILEGON  kartuHALO  21.0\n",
              "45        628111001307  callcenter       CC SURABAYA  kartuHALO  35.0\n",
              "...                ...         ...               ...        ...   ...\n",
              "4992185  6285399988321       gerai  MEDAN FAIR PLAZA    kartuAS  42.0\n",
              "4992187  6285399991996  webservice             eCare    kartuAS  23.0\n",
              "4992193  6285399992353       gerai             DEMAK    kartuAS  32.0\n",
              "4992196  6285399993592  callcenter       CC MAKASSAR    kartuAS  28.0\n",
              "4992198  6285399997729     grapari         PALEMBANG  kartuHALO  29.0\n",
              "\n",
              "[1471176 rows x 5 columns]"
            ]
          },
          "metadata": {
            "tags": []
          },
          "execution_count": 12
        }
      ]
    },
    {
      "cell_type": "code",
      "metadata": {
        "id": "saMIdqye6-Rx",
        "colab_type": "code",
        "colab": {
          "base_uri": "https://localhost:8080/",
          "height": 297
        },
        "outputId": "63d36c4c-2f35-44bb-ba95-3ce9a08a4015"
      },
      "source": [
        "data.describe()"
      ],
      "execution_count": 13,
      "outputs": [
        {
          "output_type": "execute_result",
          "data": {
            "text/html": [
              "<div>\n",
              "<style scoped>\n",
              "    .dataframe tbody tr th:only-of-type {\n",
              "        vertical-align: middle;\n",
              "    }\n",
              "\n",
              "    .dataframe tbody tr th {\n",
              "        vertical-align: top;\n",
              "    }\n",
              "\n",
              "    .dataframe thead th {\n",
              "        text-align: right;\n",
              "    }\n",
              "</style>\n",
              "<table border=\"1\" class=\"dataframe\">\n",
              "  <thead>\n",
              "    <tr style=\"text-align: right;\">\n",
              "      <th></th>\n",
              "      <th>age</th>\n",
              "    </tr>\n",
              "  </thead>\n",
              "  <tbody>\n",
              "    <tr>\n",
              "      <th>count</th>\n",
              "      <td>1.884347e+06</td>\n",
              "    </tr>\n",
              "    <tr>\n",
              "      <th>mean</th>\n",
              "      <td>3.775950e+01</td>\n",
              "    </tr>\n",
              "    <tr>\n",
              "      <th>std</th>\n",
              "      <td>1.336588e+01</td>\n",
              "    </tr>\n",
              "    <tr>\n",
              "      <th>min</th>\n",
              "      <td>-1.000000e+01</td>\n",
              "    </tr>\n",
              "    <tr>\n",
              "      <th>25%</th>\n",
              "      <td>2.800000e+01</td>\n",
              "    </tr>\n",
              "    <tr>\n",
              "      <th>50%</th>\n",
              "      <td>3.700000e+01</td>\n",
              "    </tr>\n",
              "    <tr>\n",
              "      <th>75%</th>\n",
              "      <td>4.700000e+01</td>\n",
              "    </tr>\n",
              "    <tr>\n",
              "      <th>max</th>\n",
              "      <td>8.900000e+01</td>\n",
              "    </tr>\n",
              "  </tbody>\n",
              "</table>\n",
              "</div>"
            ],
            "text/plain": [
              "                age\n",
              "count  1.884347e+06\n",
              "mean   3.775950e+01\n",
              "std    1.336588e+01\n",
              "min   -1.000000e+01\n",
              "25%    2.800000e+01\n",
              "50%    3.700000e+01\n",
              "75%    4.700000e+01\n",
              "max    8.900000e+01"
            ]
          },
          "metadata": {
            "tags": []
          },
          "execution_count": 13
        }
      ]
    }
  ]
}