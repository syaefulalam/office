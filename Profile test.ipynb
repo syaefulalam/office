{
  "nbformat": 4,
  "nbformat_minor": 0,
  "metadata": {
    "colab": {
      "name": "Untitled11.ipynb",
      "provenance": [],
      "include_colab_link": true
    },
    "kernelspec": {
      "name": "python3",
      "display_name": "Python 3"
    }
  },
  "cells": [
    {
      "cell_type": "markdown",
      "metadata": {
        "id": "view-in-github",
        "colab_type": "text"
      },
      "source": [
        "<a href=\"https://colab.research.google.com/github/syaefulalam/office/blob/master/Profile%20test.ipynb\" target=\"_parent\"><img src=\"https://colab.research.google.com/assets/colab-badge.svg\" alt=\"Open In Colab\"/></a>"
      ]
    },
    {
      "cell_type": "code",
      "metadata": {
        "id": "35IJp8LHO8xD",
        "colab_type": "code",
        "colab": {}
      },
      "source": [
        "import pandas as pd"
      ],
      "execution_count": 0,
      "outputs": []
    },
    {
      "cell_type": "code",
      "metadata": {
        "id": "wyGrnjuHQDbl",
        "colab_type": "code",
        "colab": {
          "base_uri": "https://localhost:8080/",
          "height": 119
        },
        "outputId": "3a192bea-be61-4cd3-f1c4-9afedb123ac4"
      },
      "source": [
        "!git clone https://github.com/syaefulalam/office"
      ],
      "execution_count": 6,
      "outputs": [
        {
          "output_type": "stream",
          "text": [
            "Cloning into 'office'...\n",
            "remote: Enumerating objects: 15, done.\u001b[K\n",
            "remote: Counting objects: 100% (15/15), done.\u001b[K\n",
            "remote: Compressing objects: 100% (15/15), done.\u001b[K\n",
            "remote: Total 15 (delta 6), reused 0 (delta 0), pack-reused 0\u001b[K\n",
            "Unpacking objects: 100% (15/15), done.\n"
          ],
          "name": "stdout"
        }
      ]
    },
    {
      "cell_type": "code",
      "metadata": {
        "id": "MvevZhErQO0j",
        "colab_type": "code",
        "colab": {}
      },
      "source": [
        "data = pd.read_csv('office/profile test.csv', sep=',')"
      ],
      "execution_count": 0,
      "outputs": []
    },
    {
      "cell_type": "code",
      "metadata": {
        "id": "HqHP0YwDQfIC",
        "colab_type": "code",
        "colab": {
          "base_uri": "https://localhost:8080/",
          "height": 255
        },
        "outputId": "c2e27606-2d26-4286-9460-31e07e15b98d"
      },
      "source": [
        "data.info ()"
      ],
      "execution_count": 8,
      "outputs": [
        {
          "output_type": "stream",
          "text": [
            "<class 'pandas.core.frame.DataFrame'>\n",
            "RangeIndex: 306 entries, 0 to 305\n",
            "Data columns (total 9 columns):\n",
            "msisdn        306 non-null int64\n",
            "unit_type     305 non-null object\n",
            "unit_name     305 non-null object\n",
            "brand         306 non-null object\n",
            "age           306 non-null int64\n",
            "Unnamed: 5    0 non-null float64\n",
            "Unnamed: 6    0 non-null float64\n",
            "Unnamed: 7    8 non-null object\n",
            "Unnamed: 8    9 non-null object\n",
            "dtypes: float64(2), int64(2), object(5)\n",
            "memory usage: 21.6+ KB\n"
          ],
          "name": "stdout"
        }
      ]
    },
    {
      "cell_type": "code",
      "metadata": {
        "id": "r0HM1p9oQp4v",
        "colab_type": "code",
        "colab": {
          "base_uri": "https://localhost:8080/",
          "height": 204
        },
        "outputId": "94daa522-b579-4e92-c4bc-6cf3886df41c"
      },
      "source": [
        "data.head ()"
      ],
      "execution_count": 6,
      "outputs": [
        {
          "output_type": "execute_result",
          "data": {
            "text/html": [
              "<div>\n",
              "<style scoped>\n",
              "    .dataframe tbody tr th:only-of-type {\n",
              "        vertical-align: middle;\n",
              "    }\n",
              "\n",
              "    .dataframe tbody tr th {\n",
              "        vertical-align: top;\n",
              "    }\n",
              "\n",
              "    .dataframe thead th {\n",
              "        text-align: right;\n",
              "    }\n",
              "</style>\n",
              "<table border=\"1\" class=\"dataframe\">\n",
              "  <thead>\n",
              "    <tr style=\"text-align: right;\">\n",
              "      <th></th>\n",
              "      <th>msisdn</th>\n",
              "      <th>unit_type</th>\n",
              "      <th>unit_name</th>\n",
              "      <th>brand</th>\n",
              "      <th>age</th>\n",
              "      <th>Unnamed: 5</th>\n",
              "      <th>Unnamed: 6</th>\n",
              "      <th>Unnamed: 7</th>\n",
              "      <th>Unnamed: 8</th>\n",
              "    </tr>\n",
              "  </thead>\n",
              "  <tbody>\n",
              "    <tr>\n",
              "      <th>0</th>\n",
              "      <td>628111000887</td>\n",
              "      <td>callcenter</td>\n",
              "      <td>CC BANDUNG</td>\n",
              "      <td>kartuHALO</td>\n",
              "      <td>46</td>\n",
              "      <td>NaN</td>\n",
              "      <td>NaN</td>\n",
              "      <td>Row Labels</td>\n",
              "      <td>Count of msisdn</td>\n",
              "    </tr>\n",
              "    <tr>\n",
              "      <th>1</th>\n",
              "      <td>628111000908</td>\n",
              "      <td>callcenter</td>\n",
              "      <td>CC BANDUNG</td>\n",
              "      <td>kartuHALO</td>\n",
              "      <td>54</td>\n",
              "      <td>NaN</td>\n",
              "      <td>NaN</td>\n",
              "      <td>callcenter</td>\n",
              "      <td>83</td>\n",
              "    </tr>\n",
              "    <tr>\n",
              "      <th>2</th>\n",
              "      <td>628111000908</td>\n",
              "      <td>callcenter</td>\n",
              "      <td>CC BANDUNG</td>\n",
              "      <td>kartuHALO</td>\n",
              "      <td>54</td>\n",
              "      <td>NaN</td>\n",
              "      <td>NaN</td>\n",
              "      <td>gerai</td>\n",
              "      <td>87</td>\n",
              "    </tr>\n",
              "    <tr>\n",
              "      <th>3</th>\n",
              "      <td>628111000908</td>\n",
              "      <td>grapari</td>\n",
              "      <td>MADINAH</td>\n",
              "      <td>kartuHALO</td>\n",
              "      <td>54</td>\n",
              "      <td>NaN</td>\n",
              "      <td>NaN</td>\n",
              "      <td>grapari</td>\n",
              "      <td>44</td>\n",
              "    </tr>\n",
              "    <tr>\n",
              "      <th>4</th>\n",
              "      <td>628111000908</td>\n",
              "      <td>callcenter</td>\n",
              "      <td>CC BANDUNG</td>\n",
              "      <td>kartuHALO</td>\n",
              "      <td>54</td>\n",
              "      <td>NaN</td>\n",
              "      <td>NaN</td>\n",
              "      <td>headquarter</td>\n",
              "      <td>4</td>\n",
              "    </tr>\n",
              "  </tbody>\n",
              "</table>\n",
              "</div>"
            ],
            "text/plain": [
              "         msisdn   unit_type  ...   Unnamed: 7       Unnamed: 8\n",
              "0  628111000887  callcenter  ...   Row Labels  Count of msisdn\n",
              "1  628111000908  callcenter  ...   callcenter               83\n",
              "2  628111000908  callcenter  ...        gerai               87\n",
              "3  628111000908     grapari  ...      grapari               44\n",
              "4  628111000908  callcenter  ...  headquarter                4\n",
              "\n",
              "[5 rows x 9 columns]"
            ]
          },
          "metadata": {
            "tags": []
          },
          "execution_count": 6
        }
      ]
    },
    {
      "cell_type": "code",
      "metadata": {
        "id": "wTCHBzSIw-AF",
        "colab_type": "code",
        "colab": {}
      },
      "source": [
        "#remove duplicate\n",
        "data = data.drop_duplicates(subset=['msisdn'])"
      ],
      "execution_count": 0,
      "outputs": []
    },
    {
      "cell_type": "code",
      "metadata": {
        "id": "bTN6I-cIsdnY",
        "colab_type": "code",
        "colab": {}
      },
      "source": [
        "#delete satu coloumn\n",
        "data2 = data.drop(columns=\"Unnamed: 5\")"
      ],
      "execution_count": 0,
      "outputs": []
    },
    {
      "cell_type": "code",
      "metadata": {
        "id": "i76og3nwtCdU",
        "colab_type": "code",
        "colab": {
          "base_uri": "https://localhost:8080/",
          "height": 204
        },
        "outputId": "72a78cd3-c65f-44f8-b2c1-3b9f38f4d1cf"
      },
      "source": [
        "data2.head ()"
      ],
      "execution_count": 26,
      "outputs": [
        {
          "output_type": "execute_result",
          "data": {
            "text/html": [
              "<div>\n",
              "<style scoped>\n",
              "    .dataframe tbody tr th:only-of-type {\n",
              "        vertical-align: middle;\n",
              "    }\n",
              "\n",
              "    .dataframe tbody tr th {\n",
              "        vertical-align: top;\n",
              "    }\n",
              "\n",
              "    .dataframe thead th {\n",
              "        text-align: right;\n",
              "    }\n",
              "</style>\n",
              "<table border=\"1\" class=\"dataframe\">\n",
              "  <thead>\n",
              "    <tr style=\"text-align: right;\">\n",
              "      <th></th>\n",
              "      <th>msisdn</th>\n",
              "      <th>unit_type</th>\n",
              "      <th>unit_name</th>\n",
              "      <th>brand</th>\n",
              "      <th>age</th>\n",
              "      <th>Unnamed: 6</th>\n",
              "      <th>Unnamed: 7</th>\n",
              "      <th>Unnamed: 8</th>\n",
              "    </tr>\n",
              "  </thead>\n",
              "  <tbody>\n",
              "    <tr>\n",
              "      <th>0</th>\n",
              "      <td>628111000887</td>\n",
              "      <td>callcenter</td>\n",
              "      <td>CC BANDUNG</td>\n",
              "      <td>kartuHALO</td>\n",
              "      <td>46</td>\n",
              "      <td>NaN</td>\n",
              "      <td>Row Labels</td>\n",
              "      <td>Count of msisdn</td>\n",
              "    </tr>\n",
              "    <tr>\n",
              "      <th>1</th>\n",
              "      <td>628111000908</td>\n",
              "      <td>callcenter</td>\n",
              "      <td>CC BANDUNG</td>\n",
              "      <td>kartuHALO</td>\n",
              "      <td>54</td>\n",
              "      <td>NaN</td>\n",
              "      <td>callcenter</td>\n",
              "      <td>83</td>\n",
              "    </tr>\n",
              "    <tr>\n",
              "      <th>5</th>\n",
              "      <td>628111001013</td>\n",
              "      <td>gerai</td>\n",
              "      <td>KOTA KASABLANKA</td>\n",
              "      <td>kartuHALO</td>\n",
              "      <td>46</td>\n",
              "      <td>NaN</td>\n",
              "      <td>NaN</td>\n",
              "      <td>1</td>\n",
              "    </tr>\n",
              "    <tr>\n",
              "      <th>11</th>\n",
              "      <td>628111001097</td>\n",
              "      <td>grapari</td>\n",
              "      <td>CILEGON</td>\n",
              "      <td>kartuHALO</td>\n",
              "      <td>21</td>\n",
              "      <td>NaN</td>\n",
              "      <td>NaN</td>\n",
              "      <td>NaN</td>\n",
              "    </tr>\n",
              "    <tr>\n",
              "      <th>12</th>\n",
              "      <td>628111001307</td>\n",
              "      <td>callcenter</td>\n",
              "      <td>CC SURABAYA</td>\n",
              "      <td>kartuHALO</td>\n",
              "      <td>35</td>\n",
              "      <td>NaN</td>\n",
              "      <td>NaN</td>\n",
              "      <td>NaN</td>\n",
              "    </tr>\n",
              "  </tbody>\n",
              "</table>\n",
              "</div>"
            ],
            "text/plain": [
              "          msisdn   unit_type  ...  Unnamed: 7       Unnamed: 8\n",
              "0   628111000887  callcenter  ...  Row Labels  Count of msisdn\n",
              "1   628111000908  callcenter  ...  callcenter               83\n",
              "5   628111001013       gerai  ...         NaN                1\n",
              "11  628111001097     grapari  ...         NaN              NaN\n",
              "12  628111001307  callcenter  ...         NaN              NaN\n",
              "\n",
              "[5 rows x 8 columns]"
            ]
          },
          "metadata": {
            "tags": []
          },
          "execution_count": 26
        }
      ]
    },
    {
      "cell_type": "code",
      "metadata": {
        "id": "4KcgvoDotdpF",
        "colab_type": "code",
        "colab": {}
      },
      "source": [
        "#delete multiple coloumn\n",
        "data3 = data2.drop([\"Unnamed: 6\", \"Unnamed: 7\", \"Unnamed: 8\"], axis=1)"
      ],
      "execution_count": 0,
      "outputs": []
    },
    {
      "cell_type": "code",
      "metadata": {
        "id": "gTrkTGNWtxv2",
        "colab_type": "code",
        "colab": {
          "base_uri": "https://localhost:8080/",
          "height": 204
        },
        "outputId": "f4d4c27a-913b-4b40-bffb-ac2fc8acc2ab"
      },
      "source": [
        "data3.head ()"
      ],
      "execution_count": 14,
      "outputs": [
        {
          "output_type": "execute_result",
          "data": {
            "text/html": [
              "<div>\n",
              "<style scoped>\n",
              "    .dataframe tbody tr th:only-of-type {\n",
              "        vertical-align: middle;\n",
              "    }\n",
              "\n",
              "    .dataframe tbody tr th {\n",
              "        vertical-align: top;\n",
              "    }\n",
              "\n",
              "    .dataframe thead th {\n",
              "        text-align: right;\n",
              "    }\n",
              "</style>\n",
              "<table border=\"1\" class=\"dataframe\">\n",
              "  <thead>\n",
              "    <tr style=\"text-align: right;\">\n",
              "      <th></th>\n",
              "      <th>msisdn</th>\n",
              "      <th>unit_type</th>\n",
              "      <th>unit_name</th>\n",
              "      <th>brand</th>\n",
              "      <th>age</th>\n",
              "    </tr>\n",
              "  </thead>\n",
              "  <tbody>\n",
              "    <tr>\n",
              "      <th>0</th>\n",
              "      <td>628111000887</td>\n",
              "      <td>callcenter</td>\n",
              "      <td>CC BANDUNG</td>\n",
              "      <td>kartuHALO</td>\n",
              "      <td>46</td>\n",
              "    </tr>\n",
              "    <tr>\n",
              "      <th>1</th>\n",
              "      <td>628111000908</td>\n",
              "      <td>callcenter</td>\n",
              "      <td>CC BANDUNG</td>\n",
              "      <td>kartuHALO</td>\n",
              "      <td>54</td>\n",
              "    </tr>\n",
              "    <tr>\n",
              "      <th>5</th>\n",
              "      <td>628111001013</td>\n",
              "      <td>gerai</td>\n",
              "      <td>KOTA KASABLANKA</td>\n",
              "      <td>kartuHALO</td>\n",
              "      <td>46</td>\n",
              "    </tr>\n",
              "    <tr>\n",
              "      <th>11</th>\n",
              "      <td>628111001097</td>\n",
              "      <td>grapari</td>\n",
              "      <td>CILEGON</td>\n",
              "      <td>kartuHALO</td>\n",
              "      <td>21</td>\n",
              "    </tr>\n",
              "    <tr>\n",
              "      <th>12</th>\n",
              "      <td>628111001307</td>\n",
              "      <td>callcenter</td>\n",
              "      <td>CC SURABAYA</td>\n",
              "      <td>kartuHALO</td>\n",
              "      <td>35</td>\n",
              "    </tr>\n",
              "  </tbody>\n",
              "</table>\n",
              "</div>"
            ],
            "text/plain": [
              "          msisdn   unit_type         unit_name      brand  age\n",
              "0   628111000887  callcenter        CC BANDUNG  kartuHALO   46\n",
              "1   628111000908  callcenter        CC BANDUNG  kartuHALO   54\n",
              "5   628111001013       gerai  KOTA KASABLANKA   kartuHALO   46\n",
              "11  628111001097     grapari           CILEGON  kartuHALO   21\n",
              "12  628111001307  callcenter       CC SURABAYA  kartuHALO   35"
            ]
          },
          "metadata": {
            "tags": []
          },
          "execution_count": 14
        }
      ]
    },
    {
      "cell_type": "code",
      "metadata": {
        "id": "ll4rsLbywqot",
        "colab_type": "code",
        "colab": {}
      },
      "source": [
        ""
      ],
      "execution_count": 0,
      "outputs": []
    },
    {
      "cell_type": "code",
      "metadata": {
        "id": "liFeXxZPvCHU",
        "colab_type": "code",
        "colab": {}
      },
      "source": [
        "#delete multiple coloumn\n",
        "data4 = data3.drop([\"unit_name\", \"brand\"], axis=1)"
      ],
      "execution_count": 0,
      "outputs": []
    },
    {
      "cell_type": "code",
      "metadata": {
        "id": "P2XIwfy_v9p5",
        "colab_type": "code",
        "colab": {
          "base_uri": "https://localhost:8080/",
          "height": 204
        },
        "outputId": "487ca348-3329-4fd4-b806-76f371592182"
      },
      "source": [
        "data4.head ()"
      ],
      "execution_count": 30,
      "outputs": [
        {
          "output_type": "execute_result",
          "data": {
            "text/html": [
              "<div>\n",
              "<style scoped>\n",
              "    .dataframe tbody tr th:only-of-type {\n",
              "        vertical-align: middle;\n",
              "    }\n",
              "\n",
              "    .dataframe tbody tr th {\n",
              "        vertical-align: top;\n",
              "    }\n",
              "\n",
              "    .dataframe thead th {\n",
              "        text-align: right;\n",
              "    }\n",
              "</style>\n",
              "<table border=\"1\" class=\"dataframe\">\n",
              "  <thead>\n",
              "    <tr style=\"text-align: right;\">\n",
              "      <th></th>\n",
              "      <th>unit_type</th>\n",
              "      <th>age</th>\n",
              "    </tr>\n",
              "  </thead>\n",
              "  <tbody>\n",
              "    <tr>\n",
              "      <th>0</th>\n",
              "      <td>callcenter</td>\n",
              "      <td>46</td>\n",
              "    </tr>\n",
              "    <tr>\n",
              "      <th>1</th>\n",
              "      <td>callcenter</td>\n",
              "      <td>54</td>\n",
              "    </tr>\n",
              "    <tr>\n",
              "      <th>5</th>\n",
              "      <td>gerai</td>\n",
              "      <td>46</td>\n",
              "    </tr>\n",
              "    <tr>\n",
              "      <th>11</th>\n",
              "      <td>grapari</td>\n",
              "      <td>21</td>\n",
              "    </tr>\n",
              "    <tr>\n",
              "      <th>12</th>\n",
              "      <td>callcenter</td>\n",
              "      <td>35</td>\n",
              "    </tr>\n",
              "  </tbody>\n",
              "</table>\n",
              "</div>"
            ],
            "text/plain": [
              "     unit_type  age\n",
              "0   callcenter   46\n",
              "1   callcenter   54\n",
              "5        gerai   46\n",
              "11     grapari   21\n",
              "12  callcenter   35"
            ]
          },
          "metadata": {
            "tags": []
          },
          "execution_count": 30
        }
      ]
    },
    {
      "cell_type": "code",
      "metadata": {
        "id": "p3snqHfpxxIW",
        "colab_type": "code",
        "colab": {
          "base_uri": "https://localhost:8080/",
          "height": 163
        },
        "outputId": "8026d3a5-98ed-4e3a-cfda-e72a2cec3de0"
      },
      "source": [
        "df.pivot( columns='unit_type', values='age')"
      ],
      "execution_count": 16,
      "outputs": [
        {
          "output_type": "error",
          "ename": "NameError",
          "evalue": "ignored",
          "traceback": [
            "\u001b[0;31m---------------------------------------------------------------------------\u001b[0m",
            "\u001b[0;31mNameError\u001b[0m                                 Traceback (most recent call last)",
            "\u001b[0;32m<ipython-input-16-a49036a3f593>\u001b[0m in \u001b[0;36m<module>\u001b[0;34m()\u001b[0m\n\u001b[0;32m----> 1\u001b[0;31m \u001b[0mdf\u001b[0m\u001b[0;34m.\u001b[0m\u001b[0mpivot\u001b[0m\u001b[0;34m(\u001b[0m \u001b[0mcolumns\u001b[0m\u001b[0;34m=\u001b[0m\u001b[0;34m'unit_type'\u001b[0m\u001b[0;34m,\u001b[0m \u001b[0mvalues\u001b[0m\u001b[0;34m=\u001b[0m\u001b[0;34m'age'\u001b[0m\u001b[0;34m)\u001b[0m\u001b[0;34m\u001b[0m\u001b[0;34m\u001b[0m\u001b[0m\n\u001b[0m",
            "\u001b[0;31mNameError\u001b[0m: name 'df' is not defined"
          ]
        }
      ]
    },
    {
      "cell_type": "code",
      "metadata": {
        "id": "z6vcfR6ZyUln",
        "colab_type": "code",
        "colab": {
          "base_uri": "https://localhost:8080/",
          "height": 129
        },
        "outputId": "1d37a091-a91c-4f41-df96-43b807e0f2bd"
      },
      "source": [
        "data5.head()"
      ],
      "execution_count": 35,
      "outputs": [
        {
          "output_type": "execute_result",
          "data": {
            "text/html": [
              "<div>\n",
              "<style scoped>\n",
              "    .dataframe tbody tr th:only-of-type {\n",
              "        vertical-align: middle;\n",
              "    }\n",
              "\n",
              "    .dataframe tbody tr th {\n",
              "        vertical-align: top;\n",
              "    }\n",
              "\n",
              "    .dataframe thead th {\n",
              "        text-align: right;\n",
              "    }\n",
              "</style>\n",
              "<table border=\"1\" class=\"dataframe\">\n",
              "  <thead>\n",
              "    <tr style=\"text-align: right;\">\n",
              "      <th>unit_type</th>\n",
              "      <th>callcenter</th>\n",
              "      <th>callcenter</th>\n",
              "      <th>gerai</th>\n",
              "      <th>grapari</th>\n",
              "      <th>callcenter</th>\n",
              "      <th>gerai</th>\n",
              "      <th>callcenter</th>\n",
              "      <th>gerai</th>\n",
              "      <th>headquarter</th>\n",
              "      <th>callcenter</th>\n",
              "      <th>callcenter</th>\n",
              "      <th>callcenter</th>\n",
              "      <th>callcenter</th>\n",
              "      <th>callcenter</th>\n",
              "      <th>gerai</th>\n",
              "      <th>gerai</th>\n",
              "      <th>webservice</th>\n",
              "      <th>grapari</th>\n",
              "      <th>gerai</th>\n",
              "      <th>gerai</th>\n",
              "      <th>gerai</th>\n",
              "      <th>gerai</th>\n",
              "      <th>callcenter</th>\n",
              "      <th>gerai</th>\n",
              "      <th>gerai</th>\n",
              "      <th>gerai</th>\n",
              "      <th>callcenter</th>\n",
              "      <th>gerai</th>\n",
              "      <th>callcenter</th>\n",
              "      <th>callcenter</th>\n",
              "      <th>grapari</th>\n",
              "      <th>callcenter</th>\n",
              "      <th>callcenter</th>\n",
              "      <th>callcenter</th>\n",
              "      <th>callcenter</th>\n",
              "      <th>grapari</th>\n",
              "      <th>callcenter</th>\n",
              "      <th>callcenter</th>\n",
              "      <th>callcenter</th>\n",
              "      <th>grapari</th>\n",
              "      <th>...</th>\n",
              "      <th>grapari</th>\n",
              "      <th>gerai</th>\n",
              "      <th>callcenter</th>\n",
              "      <th>callcenter</th>\n",
              "      <th>grapari</th>\n",
              "      <th>grapari</th>\n",
              "      <th>gerai</th>\n",
              "      <th>gerai</th>\n",
              "      <th>gerai</th>\n",
              "      <th>gerai</th>\n",
              "      <th>gerai</th>\n",
              "      <th>grapari</th>\n",
              "      <th>headquarter</th>\n",
              "      <th>gerai</th>\n",
              "      <th>webservice</th>\n",
              "      <th>webservice</th>\n",
              "      <th>webservice</th>\n",
              "      <th>webservice</th>\n",
              "      <th>webservice</th>\n",
              "      <th>webservice</th>\n",
              "      <th>webservice</th>\n",
              "      <th>webservice</th>\n",
              "      <th>webservice</th>\n",
              "      <th>webservice</th>\n",
              "      <th>webservice</th>\n",
              "      <th>webservice</th>\n",
              "      <th>webservice</th>\n",
              "      <th>webservice</th>\n",
              "      <th>webservice</th>\n",
              "      <th>webservice</th>\n",
              "      <th>webservice</th>\n",
              "      <th>webservice</th>\n",
              "      <th>webservice</th>\n",
              "      <th>webservice</th>\n",
              "      <th>webservice</th>\n",
              "      <th>webservice</th>\n",
              "      <th>webservice</th>\n",
              "      <th>webservice</th>\n",
              "      <th>webservice</th>\n",
              "      <th>webservice</th>\n",
              "    </tr>\n",
              "  </thead>\n",
              "  <tbody>\n",
              "    <tr>\n",
              "      <th>age</th>\n",
              "      <td>46</td>\n",
              "      <td>54</td>\n",
              "      <td>46</td>\n",
              "      <td>21</td>\n",
              "      <td>35</td>\n",
              "      <td>24</td>\n",
              "      <td>21</td>\n",
              "      <td>61</td>\n",
              "      <td>63</td>\n",
              "      <td>32</td>\n",
              "      <td>45</td>\n",
              "      <td>60</td>\n",
              "      <td>47</td>\n",
              "      <td>29</td>\n",
              "      <td>30</td>\n",
              "      <td>40</td>\n",
              "      <td>28</td>\n",
              "      <td>26</td>\n",
              "      <td>50</td>\n",
              "      <td>26</td>\n",
              "      <td>44</td>\n",
              "      <td>52</td>\n",
              "      <td>33</td>\n",
              "      <td>47</td>\n",
              "      <td>32</td>\n",
              "      <td>42</td>\n",
              "      <td>39</td>\n",
              "      <td>47</td>\n",
              "      <td>35</td>\n",
              "      <td>44</td>\n",
              "      <td>50</td>\n",
              "      <td>55</td>\n",
              "      <td>33</td>\n",
              "      <td>57</td>\n",
              "      <td>55</td>\n",
              "      <td>36</td>\n",
              "      <td>40</td>\n",
              "      <td>33</td>\n",
              "      <td>31</td>\n",
              "      <td>48</td>\n",
              "      <td>...</td>\n",
              "      <td>45</td>\n",
              "      <td>23</td>\n",
              "      <td>42</td>\n",
              "      <td>35</td>\n",
              "      <td>45</td>\n",
              "      <td>40</td>\n",
              "      <td>43</td>\n",
              "      <td>27</td>\n",
              "      <td>44</td>\n",
              "      <td>52</td>\n",
              "      <td>39</td>\n",
              "      <td>39</td>\n",
              "      <td>19</td>\n",
              "      <td>40</td>\n",
              "      <td>27</td>\n",
              "      <td>21</td>\n",
              "      <td>26</td>\n",
              "      <td>27</td>\n",
              "      <td>28</td>\n",
              "      <td>37</td>\n",
              "      <td>42</td>\n",
              "      <td>44</td>\n",
              "      <td>22</td>\n",
              "      <td>27</td>\n",
              "      <td>20</td>\n",
              "      <td>25</td>\n",
              "      <td>26</td>\n",
              "      <td>62</td>\n",
              "      <td>28</td>\n",
              "      <td>36</td>\n",
              "      <td>33</td>\n",
              "      <td>23</td>\n",
              "      <td>27</td>\n",
              "      <td>18</td>\n",
              "      <td>36</td>\n",
              "      <td>42</td>\n",
              "      <td>19</td>\n",
              "      <td>35</td>\n",
              "      <td>19</td>\n",
              "      <td>53</td>\n",
              "    </tr>\n",
              "  </tbody>\n",
              "</table>\n",
              "<p>1 rows × 106 columns</p>\n",
              "</div>"
            ],
            "text/plain": [
              "unit_type  callcenter  callcenter  gerai  ...  webservice  webservice  webservice\n",
              "age                46          54     46  ...          35          19          53\n",
              "\n",
              "[1 rows x 106 columns]"
            ]
          },
          "metadata": {
            "tags": []
          },
          "execution_count": 35
        }
      ]
    }
  ]
}