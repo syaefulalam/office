{
  "nbformat": 4,
  "nbformat_minor": 0,
  "metadata": {
    "colab": {
      "name": "Untitled9.ipynb",
      "provenance": [],
      "collapsed_sections": [],
      "include_colab_link": true
    },
    "kernelspec": {
      "name": "python3",
      "display_name": "Python 3"
    }
  },
  "cells": [
    {
      "cell_type": "markdown",
      "metadata": {
        "id": "view-in-github",
        "colab_type": "text"
      },
      "source": [
        "<a href=\"https://colab.research.google.com/github/syaefulalam/office/blob/master/test.ipynb\" target=\"_parent\"><img src=\"https://colab.research.google.com/assets/colab-badge.svg\" alt=\"Open In Colab\"/></a>"
      ]
    },
    {
      "cell_type": "code",
      "metadata": {
        "id": "jBZJ823ZX7K7",
        "colab_type": "code",
        "colab": {}
      },
      "source": [
        "import pandas as pd"
      ],
      "execution_count": 0,
      "outputs": []
    },
    {
      "cell_type": "code",
      "metadata": {
        "id": "TIbykAlVYBrf",
        "colab_type": "code",
        "outputId": "d5f31fe8-a22f-4e21-9902-17d58af06e75",
        "colab": {
          "base_uri": "https://localhost:8080/",
          "height": 119
        }
      },
      "source": [
        "!git clone https://github.com/syaefulalam/office"
      ],
      "execution_count": 2,
      "outputs": [
        {
          "output_type": "stream",
          "text": [
            "Cloning into 'office'...\n",
            "remote: Enumerating objects: 6, done.\u001b[K\n",
            "remote: Counting objects: 100% (6/6), done.\u001b[K\n",
            "remote: Compressing objects: 100% (6/6), done.\u001b[K\n",
            "remote: Total 6 (delta 1), reused 0 (delta 0), pack-reused 0\u001b[K\n",
            "Unpacking objects: 100% (6/6), done.\n"
          ],
          "name": "stdout"
        }
      ]
    },
    {
      "cell_type": "code",
      "metadata": {
        "id": "T2M1VlPJYKsk",
        "colab_type": "code",
        "outputId": "2429d269-df3d-466a-91d2-0e5aec0729b7",
        "colab": {
          "base_uri": "https://localhost:8080/",
          "height": 71
        }
      },
      "source": [
        "data = pd.read_csv('office/Profile age Msisdn per Okt 19.csv', sep=',')"
      ],
      "execution_count": 3,
      "outputs": [
        {
          "output_type": "stream",
          "text": [
            "/usr/local/lib/python3.6/dist-packages/IPython/core/interactiveshell.py:2718: DtypeWarning: Columns (0) have mixed types. Specify dtype option on import or set low_memory=False.\n",
            "  interactivity=interactivity, compiler=compiler, result=result)\n"
          ],
          "name": "stderr"
        }
      ]
    },
    {
      "cell_type": "code",
      "metadata": {
        "id": "430y82HDYhyJ",
        "colab_type": "code",
        "outputId": "3445f705-6a66-4413-93c4-dd7c62ce99a9",
        "colab": {
          "base_uri": "https://localhost:8080/",
          "height": 204
        }
      },
      "source": [
        "data.head (5)"
      ],
      "execution_count": 0,
      "outputs": [
        {
          "output_type": "execute_result",
          "data": {
            "text/html": [
              "<div>\n",
              "<style scoped>\n",
              "    .dataframe tbody tr th:only-of-type {\n",
              "        vertical-align: middle;\n",
              "    }\n",
              "\n",
              "    .dataframe tbody tr th {\n",
              "        vertical-align: top;\n",
              "    }\n",
              "\n",
              "    .dataframe thead th {\n",
              "        text-align: right;\n",
              "    }\n",
              "</style>\n",
              "<table border=\"1\" class=\"dataframe\">\n",
              "  <thead>\n",
              "    <tr style=\"text-align: right;\">\n",
              "      <th></th>\n",
              "      <th>msisdn</th>\n",
              "      <th>unit_type</th>\n",
              "      <th>unit_name</th>\n",
              "      <th>brand</th>\n",
              "      <th>age</th>\n",
              "    </tr>\n",
              "  </thead>\n",
              "  <tbody>\n",
              "    <tr>\n",
              "      <th>0</th>\n",
              "      <td>08113190388</td>\n",
              "      <td>grapari</td>\n",
              "      <td>SURABAYA PEMUDA</td>\n",
              "      <td>NaN</td>\n",
              "      <td>NaN</td>\n",
              "    </tr>\n",
              "    <tr>\n",
              "      <th>1</th>\n",
              "      <td>08113190388</td>\n",
              "      <td>grapari</td>\n",
              "      <td>SURABAYA PEMUDA</td>\n",
              "      <td>NaN</td>\n",
              "      <td>NaN</td>\n",
              "    </tr>\n",
              "    <tr>\n",
              "      <th>2</th>\n",
              "      <td>081326631110</td>\n",
              "      <td>grapari</td>\n",
              "      <td>YOGYAKARTA</td>\n",
              "      <td>NaN</td>\n",
              "      <td>NaN</td>\n",
              "    </tr>\n",
              "    <tr>\n",
              "      <th>3</th>\n",
              "      <td>081326631110</td>\n",
              "      <td>grapari</td>\n",
              "      <td>YOGYAKARTA</td>\n",
              "      <td>NaN</td>\n",
              "      <td>NaN</td>\n",
              "    </tr>\n",
              "    <tr>\n",
              "      <th>4</th>\n",
              "      <td>081326631110</td>\n",
              "      <td>grapari</td>\n",
              "      <td>YOGYAKARTA</td>\n",
              "      <td>NaN</td>\n",
              "      <td>NaN</td>\n",
              "    </tr>\n",
              "  </tbody>\n",
              "</table>\n",
              "</div>"
            ],
            "text/plain": [
              "         msisdn unit_type        unit_name brand  age\n",
              "0   08113190388   grapari  SURABAYA PEMUDA   NaN  NaN\n",
              "1   08113190388   grapari  SURABAYA PEMUDA   NaN  NaN\n",
              "2  081326631110   grapari       YOGYAKARTA   NaN  NaN\n",
              "3  081326631110   grapari       YOGYAKARTA   NaN  NaN\n",
              "4  081326631110   grapari       YOGYAKARTA   NaN  NaN"
            ]
          },
          "metadata": {
            "tags": []
          },
          "execution_count": 4
        }
      ]
    },
    {
      "cell_type": "code",
      "metadata": {
        "id": "5Oh9JAN_YwmK",
        "colab_type": "code",
        "outputId": "886cc1ee-aa0e-4a66-e194-4ee3a0202131",
        "colab": {
          "base_uri": "https://localhost:8080/",
          "height": 187
        }
      },
      "source": [
        "data.info ()"
      ],
      "execution_count": 0,
      "outputs": [
        {
          "output_type": "stream",
          "text": [
            "<class 'pandas.core.frame.DataFrame'>\n",
            "RangeIndex: 551965 entries, 0 to 551964\n",
            "Data columns (total 5 columns):\n",
            "msisdn       551965 non-null object\n",
            "unit_type    551965 non-null object\n",
            "unit_name    551965 non-null object\n",
            "brand        531012 non-null object\n",
            "age          455723 non-null float64\n",
            "dtypes: float64(1), object(4)\n",
            "memory usage: 21.1+ MB\n"
          ],
          "name": "stdout"
        }
      ]
    },
    {
      "cell_type": "code",
      "metadata": {
        "id": "UaU9erzMjmYx",
        "colab_type": "code",
        "outputId": "aab26ed6-b39a-4f5e-f290-e35d8e9fb238",
        "colab": {
          "base_uri": "https://localhost:8080/",
          "height": 34
        }
      },
      "source": [
        "print(data.columns)"
      ],
      "execution_count": 0,
      "outputs": [
        {
          "output_type": "stream",
          "text": [
            "Index(['msisdn', 'unit_type', 'unit_name', 'brand', 'age'], dtype='object')\n"
          ],
          "name": "stdout"
        }
      ]
    },
    {
      "cell_type": "code",
      "metadata": {
        "id": "ZeWP-93dj4AH",
        "colab_type": "code",
        "outputId": "1010f455-b9e5-4631-f90c-e79fd62c7e10",
        "colab": {
          "base_uri": "https://localhost:8080/",
          "height": 221
        }
      },
      "source": [
        "print(data['age'])"
      ],
      "execution_count": 0,
      "outputs": [
        {
          "output_type": "stream",
          "text": [
            "0          NaN\n",
            "1          NaN\n",
            "2          NaN\n",
            "3          NaN\n",
            "4          NaN\n",
            "          ... \n",
            "551960    34.0\n",
            "551961    29.0\n",
            "551962    29.0\n",
            "551963    29.0\n",
            "551964    29.0\n",
            "Name: age, Length: 551965, dtype: float64\n"
          ],
          "name": "stdout"
        }
      ]
    },
    {
      "cell_type": "code",
      "metadata": {
        "id": "_DZ-_hPDdGGj",
        "colab_type": "code",
        "outputId": "d4c75901-a30b-48c3-c17b-cd71b793c051",
        "colab": {
          "base_uri": "https://localhost:8080/",
          "height": 119
        }
      },
      "source": [
        "print(data.iloc[5])\n"
      ],
      "execution_count": 0,
      "outputs": [
        {
          "output_type": "stream",
          "text": [
            "msisdn       081326631110\n",
            "unit_type         grapari\n",
            "unit_name      YOGYAKARTA\n",
            "brand                 NaN\n",
            "age                   NaN\n",
            "Name: 5, dtype: object\n"
          ],
          "name": "stdout"
        }
      ]
    },
    {
      "cell_type": "code",
      "metadata": {
        "id": "nAqEux-td1w4",
        "colab_type": "code",
        "outputId": "e9fe21e8-11c9-4299-8974-178acc74bd53",
        "colab": {
          "base_uri": "https://localhost:8080/",
          "height": 119
        }
      },
      "source": [
        "print(data.iloc[5:10])"
      ],
      "execution_count": 0,
      "outputs": [
        {
          "output_type": "stream",
          "text": [
            "         msisdn unit_type   unit_name brand  age\n",
            "5  081326631110   grapari  YOGYAKARTA   NaN  NaN\n",
            "6  081326631110   grapari  YOGYAKARTA   NaN  NaN\n",
            "7  081326631110   grapari  YOGYAKARTA   NaN  NaN\n",
            "8  081326631110   grapari  YOGYAKARTA   NaN  NaN\n",
            "9  081326631110   grapari  YOGYAKARTA   NaN  NaN\n"
          ],
          "name": "stdout"
        }
      ]
    },
    {
      "cell_type": "code",
      "metadata": {
        "id": "DgYegcnnkXUx",
        "colab_type": "code",
        "colab": {
          "base_uri": "https://localhost:8080/",
          "height": 153
        },
        "outputId": "67733463-ad59-45a3-a487-abcfb25510ad"
      },
      "source": [
        "print(data['age'].iloc[1])\n",
        "print(\"Cuplikan Dataset:\")\n",
        "print(data.head())"
      ],
      "execution_count": 5,
      "outputs": [
        {
          "output_type": "stream",
          "text": [
            "nan\n",
            "Cuplikan Dataset:\n",
            "         msisdn unit_type        unit_name brand  age\n",
            "0   08113190388   grapari  SURABAYA PEMUDA   NaN  NaN\n",
            "1   08113190388   grapari  SURABAYA PEMUDA   NaN  NaN\n",
            "2  081326631110   grapari       YOGYAKARTA   NaN  NaN\n",
            "3  081326631110   grapari       YOGYAKARTA   NaN  NaN\n",
            "4  081326631110   grapari       YOGYAKARTA   NaN  NaN\n"
          ],
          "name": "stdout"
        }
      ]
    },
    {
      "cell_type": "code",
      "metadata": {
        "id": "-BNluoOh4M5a",
        "colab_type": "code",
        "colab": {
          "base_uri": "https://localhost:8080/",
          "height": 34
        },
        "outputId": "9b5c43cd-16c2-4b24-cba8-d13dccbb0592"
      },
      "source": [
        "#Melakukan pengecekan untuk nilai NULL yang ada\n",
        "print(data.isnull().values.any())"
      ],
      "execution_count": 6,
      "outputs": [
        {
          "output_type": "stream",
          "text": [
            "True\n"
          ],
          "name": "stdout"
        }
      ]
    },
    {
      "cell_type": "code",
      "metadata": {
        "id": "bjxgDFWKmWbg",
        "colab_type": "code",
        "colab": {
          "base_uri": "https://localhost:8080/",
          "height": 419
        },
        "outputId": "e1c8e580-8a05-48be-c1d5-90855bd709df"
      },
      "source": [
        "#will drop all rows in which any null value is present\n",
        "data.dropna()"
      ],
      "execution_count": 5,
      "outputs": [
        {
          "output_type": "execute_result",
          "data": {
            "text/html": [
              "<div>\n",
              "<style scoped>\n",
              "    .dataframe tbody tr th:only-of-type {\n",
              "        vertical-align: middle;\n",
              "    }\n",
              "\n",
              "    .dataframe tbody tr th {\n",
              "        vertical-align: top;\n",
              "    }\n",
              "\n",
              "    .dataframe thead th {\n",
              "        text-align: right;\n",
              "    }\n",
              "</style>\n",
              "<table border=\"1\" class=\"dataframe\">\n",
              "  <thead>\n",
              "    <tr style=\"text-align: right;\">\n",
              "      <th></th>\n",
              "      <th>msisdn</th>\n",
              "      <th>unit_type</th>\n",
              "      <th>unit_name</th>\n",
              "      <th>brand</th>\n",
              "      <th>age</th>\n",
              "    </tr>\n",
              "  </thead>\n",
              "  <tbody>\n",
              "    <tr>\n",
              "      <th>13</th>\n",
              "      <td>628111000908</td>\n",
              "      <td>grapari</td>\n",
              "      <td>MADINAH</td>\n",
              "      <td>kartuHALO</td>\n",
              "      <td>54.0</td>\n",
              "    </tr>\n",
              "    <tr>\n",
              "      <th>14</th>\n",
              "      <td>628111001097</td>\n",
              "      <td>grapari</td>\n",
              "      <td>CILEGON</td>\n",
              "      <td>kartuHALO</td>\n",
              "      <td>21.0</td>\n",
              "    </tr>\n",
              "    <tr>\n",
              "      <th>17</th>\n",
              "      <td>628111014747</td>\n",
              "      <td>grapari</td>\n",
              "      <td>SUKABUMI</td>\n",
              "      <td>kartuHALO</td>\n",
              "      <td>26.0</td>\n",
              "    </tr>\n",
              "    <tr>\n",
              "      <th>18</th>\n",
              "      <td>628111014747</td>\n",
              "      <td>grapari</td>\n",
              "      <td>SUKABUMI</td>\n",
              "      <td>kartuHALO</td>\n",
              "      <td>26.0</td>\n",
              "    </tr>\n",
              "    <tr>\n",
              "      <th>19</th>\n",
              "      <td>628111014747</td>\n",
              "      <td>grapari</td>\n",
              "      <td>SUKABUMI</td>\n",
              "      <td>kartuHALO</td>\n",
              "      <td>26.0</td>\n",
              "    </tr>\n",
              "    <tr>\n",
              "      <th>...</th>\n",
              "      <td>...</td>\n",
              "      <td>...</td>\n",
              "      <td>...</td>\n",
              "      <td>...</td>\n",
              "      <td>...</td>\n",
              "    </tr>\n",
              "    <tr>\n",
              "      <th>551960</th>\n",
              "      <td>6285399961504</td>\n",
              "      <td>grapari</td>\n",
              "      <td>PALU</td>\n",
              "      <td>kartuHALO</td>\n",
              "      <td>34.0</td>\n",
              "    </tr>\n",
              "    <tr>\n",
              "      <th>551961</th>\n",
              "      <td>6285399997729</td>\n",
              "      <td>grapari</td>\n",
              "      <td>PALEMBANG</td>\n",
              "      <td>kartuHALO</td>\n",
              "      <td>29.0</td>\n",
              "    </tr>\n",
              "    <tr>\n",
              "      <th>551962</th>\n",
              "      <td>6285399997729</td>\n",
              "      <td>grapari</td>\n",
              "      <td>PALEMBANG</td>\n",
              "      <td>kartuHALO</td>\n",
              "      <td>29.0</td>\n",
              "    </tr>\n",
              "    <tr>\n",
              "      <th>551963</th>\n",
              "      <td>6285399997729</td>\n",
              "      <td>grapari</td>\n",
              "      <td>PALEMBANG</td>\n",
              "      <td>kartuHALO</td>\n",
              "      <td>29.0</td>\n",
              "    </tr>\n",
              "    <tr>\n",
              "      <th>551964</th>\n",
              "      <td>6285399997729</td>\n",
              "      <td>grapari</td>\n",
              "      <td>PALEMBANG</td>\n",
              "      <td>kartuHALO</td>\n",
              "      <td>29.0</td>\n",
              "    </tr>\n",
              "  </tbody>\n",
              "</table>\n",
              "<p>455723 rows × 5 columns</p>\n",
              "</div>"
            ],
            "text/plain": [
              "               msisdn unit_type  unit_name      brand   age\n",
              "13       628111000908   grapari    MADINAH  kartuHALO  54.0\n",
              "14       628111001097   grapari    CILEGON  kartuHALO  21.0\n",
              "17       628111014747   grapari   SUKABUMI  kartuHALO  26.0\n",
              "18       628111014747   grapari   SUKABUMI  kartuHALO  26.0\n",
              "19       628111014747   grapari   SUKABUMI  kartuHALO  26.0\n",
              "...               ...       ...        ...        ...   ...\n",
              "551960  6285399961504   grapari       PALU  kartuHALO  34.0\n",
              "551961  6285399997729   grapari  PALEMBANG  kartuHALO  29.0\n",
              "551962  6285399997729   grapari  PALEMBANG  kartuHALO  29.0\n",
              "551963  6285399997729   grapari  PALEMBANG  kartuHALO  29.0\n",
              "551964  6285399997729   grapari  PALEMBANG  kartuHALO  29.0\n",
              "\n",
              "[455723 rows x 5 columns]"
            ]
          },
          "metadata": {
            "tags": []
          },
          "execution_count": 5
        }
      ]
    },
    {
      "cell_type": "code",
      "metadata": {
        "id": "uGAoiyMqoJv6",
        "colab_type": "code",
        "colab": {
          "base_uri": "https://localhost:8080/",
          "height": 297
        },
        "outputId": "6af7a72c-b207-4634-fcd0-3e548a5b9837"
      },
      "source": [
        "data.describe()"
      ],
      "execution_count": 6,
      "outputs": [
        {
          "output_type": "execute_result",
          "data": {
            "text/html": [
              "<div>\n",
              "<style scoped>\n",
              "    .dataframe tbody tr th:only-of-type {\n",
              "        vertical-align: middle;\n",
              "    }\n",
              "\n",
              "    .dataframe tbody tr th {\n",
              "        vertical-align: top;\n",
              "    }\n",
              "\n",
              "    .dataframe thead th {\n",
              "        text-align: right;\n",
              "    }\n",
              "</style>\n",
              "<table border=\"1\" class=\"dataframe\">\n",
              "  <thead>\n",
              "    <tr style=\"text-align: right;\">\n",
              "      <th></th>\n",
              "      <th>age</th>\n",
              "    </tr>\n",
              "  </thead>\n",
              "  <tbody>\n",
              "    <tr>\n",
              "      <th>count</th>\n",
              "      <td>455723.000000</td>\n",
              "    </tr>\n",
              "    <tr>\n",
              "      <th>mean</th>\n",
              "      <td>38.653961</td>\n",
              "    </tr>\n",
              "    <tr>\n",
              "      <th>std</th>\n",
              "      <td>12.912685</td>\n",
              "    </tr>\n",
              "    <tr>\n",
              "      <th>min</th>\n",
              "      <td>-10.000000</td>\n",
              "    </tr>\n",
              "    <tr>\n",
              "      <th>25%</th>\n",
              "      <td>28.000000</td>\n",
              "    </tr>\n",
              "    <tr>\n",
              "      <th>50%</th>\n",
              "      <td>38.000000</td>\n",
              "    </tr>\n",
              "    <tr>\n",
              "      <th>75%</th>\n",
              "      <td>47.000000</td>\n",
              "    </tr>\n",
              "    <tr>\n",
              "      <th>max</th>\n",
              "      <td>89.000000</td>\n",
              "    </tr>\n",
              "  </tbody>\n",
              "</table>\n",
              "</div>"
            ],
            "text/plain": [
              "                 age\n",
              "count  455723.000000\n",
              "mean       38.653961\n",
              "std        12.912685\n",
              "min       -10.000000\n",
              "25%        28.000000\n",
              "50%        38.000000\n",
              "75%        47.000000\n",
              "max        89.000000"
            ]
          },
          "metadata": {
            "tags": []
          },
          "execution_count": 6
        }
      ]
    },
    {
      "cell_type": "code",
      "metadata": {
        "id": "-VHo9AEvux0f",
        "colab_type": "code",
        "colab": {}
      },
      "source": [
        "#remove quantity <0\n",
        "\n",
        "data_clean=data[data.age >= 0]"
      ],
      "execution_count": 0,
      "outputs": []
    },
    {
      "cell_type": "code",
      "metadata": {
        "id": "-H2AAzkmvHJl",
        "colab_type": "code",
        "colab": {
          "base_uri": "https://localhost:8080/",
          "height": 297
        },
        "outputId": "7c31488f-68eb-4cb7-c1ca-82d9902cab7e"
      },
      "source": [
        "data_clean.describe()"
      ],
      "execution_count": 9,
      "outputs": [
        {
          "output_type": "execute_result",
          "data": {
            "text/html": [
              "<div>\n",
              "<style scoped>\n",
              "    .dataframe tbody tr th:only-of-type {\n",
              "        vertical-align: middle;\n",
              "    }\n",
              "\n",
              "    .dataframe tbody tr th {\n",
              "        vertical-align: top;\n",
              "    }\n",
              "\n",
              "    .dataframe thead th {\n",
              "        text-align: right;\n",
              "    }\n",
              "</style>\n",
              "<table border=\"1\" class=\"dataframe\">\n",
              "  <thead>\n",
              "    <tr style=\"text-align: right;\">\n",
              "      <th></th>\n",
              "      <th>age</th>\n",
              "    </tr>\n",
              "  </thead>\n",
              "  <tbody>\n",
              "    <tr>\n",
              "      <th>count</th>\n",
              "      <td>455626.000000</td>\n",
              "    </tr>\n",
              "    <tr>\n",
              "      <th>mean</th>\n",
              "      <td>38.663724</td>\n",
              "    </tr>\n",
              "    <tr>\n",
              "      <th>std</th>\n",
              "      <td>12.896677</td>\n",
              "    </tr>\n",
              "    <tr>\n",
              "      <th>min</th>\n",
              "      <td>0.000000</td>\n",
              "    </tr>\n",
              "    <tr>\n",
              "      <th>25%</th>\n",
              "      <td>28.000000</td>\n",
              "    </tr>\n",
              "    <tr>\n",
              "      <th>50%</th>\n",
              "      <td>38.000000</td>\n",
              "    </tr>\n",
              "    <tr>\n",
              "      <th>75%</th>\n",
              "      <td>47.000000</td>\n",
              "    </tr>\n",
              "    <tr>\n",
              "      <th>max</th>\n",
              "      <td>89.000000</td>\n",
              "    </tr>\n",
              "  </tbody>\n",
              "</table>\n",
              "</div>"
            ],
            "text/plain": [
              "                 age\n",
              "count  455626.000000\n",
              "mean       38.663724\n",
              "std        12.896677\n",
              "min         0.000000\n",
              "25%        28.000000\n",
              "50%        38.000000\n",
              "75%        47.000000\n",
              "max        89.000000"
            ]
          },
          "metadata": {
            "tags": []
          },
          "execution_count": 9
        }
      ]
    }
  ]
}